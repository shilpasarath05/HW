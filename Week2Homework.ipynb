{
  "nbformat": 4,
  "nbformat_minor": 0,
  "metadata": {
    "colab": {
      "name": "Week2Homework.ipynb",
      "provenance": [],
      "authorship_tag": "ABX9TyPDt+M30B7dRtRiJLv7evhK",
      "include_colab_link": true
    },
    "kernelspec": {
      "name": "python3",
      "display_name": "Python 3"
    },
    "language_info": {
      "name": "python"
    }
  },
  "cells": [
    {
      "cell_type": "markdown",
      "metadata": {
        "id": "view-in-github",
        "colab_type": "text"
      },
      "source": [
        "<a href=\"https://colab.research.google.com/github/shilpasarath05/Homeworks/blob/main/Week2Homework.ipynb\" target=\"_parent\"><img src=\"https://colab.research.google.com/assets/colab-badge.svg\" alt=\"Open In Colab\"/></a>"
      ]
    },
    {
      "cell_type": "code",
      "execution_count": 12,
      "metadata": {
        "id": "jZnle7sespDU"
      },
      "outputs": [],
      "source": [
        "#  3 wrong naming convention\n",
        "#  myvariable, my_Variable, 5limit"
      ]
    },
    {
      "cell_type": "code",
      "source": [
        "#  3 correct naming conventions\n",
        "#  my_variable, limit, number1"
      ],
      "metadata": {
        "id": "PSAVzQCluM-p"
      },
      "execution_count": null,
      "outputs": []
    },
    {
      "cell_type": "code",
      "source": [
        "# Example of 2 integer variables\n",
        "integer_variable1 = 2\n",
        "integer_variable2 = 6\n",
        "print('Two integers are', integer_variable1,'and',integer_variable2)"
      ],
      "metadata": {
        "colab": {
          "base_uri": "https://localhost:8080/"
        },
        "id": "YDQWSUoHvkJk",
        "outputId": "9745712a-52dd-451e-9d4a-418ec3ac5d1d"
      },
      "execution_count": 13,
      "outputs": [
        {
          "output_type": "stream",
          "name": "stdout",
          "text": [
            "Two integers are 2 and 6\n"
          ]
        }
      ]
    },
    {
      "cell_type": "code",
      "source": [
        "# Example of 2 float variables\n",
        "float_variable1 = 3.7\n",
        "float_variable2 = 4.05\n",
        "print('sum of the given floating numbers are', float_variable1+float_variable2)"
      ],
      "metadata": {
        "colab": {
          "base_uri": "https://localhost:8080/"
        },
        "id": "q5jNwloqv_q2",
        "outputId": "17e42538-d120-4529-ebdc-a6ae59fef0de"
      },
      "execution_count": 14,
      "outputs": [
        {
          "output_type": "stream",
          "name": "stdout",
          "text": [
            "sum of the given float numbers are 7.75\n"
          ]
        }
      ]
    },
    {
      "cell_type": "code",
      "source": [
        "# Example of 2 string variables\n",
        "string_variable1 = ('This is my first string')\n",
        "string_variable2 = (\" and This is my second string\")\n",
        "print(string_variable1+string_variable2)"
      ],
      "metadata": {
        "colab": {
          "base_uri": "https://localhost:8080/"
        },
        "id": "vCfrOxy3wPTX",
        "outputId": "722e43b2-9129-4eed-8933-300606bc3238"
      },
      "execution_count": 7,
      "outputs": [
        {
          "output_type": "stream",
          "name": "stdout",
          "text": [
            "This is my first string and This is my second string\n"
          ]
        }
      ]
    },
    {
      "cell_type": "code",
      "source": [
        "#  Example of 2 Boolean variables\n",
        "boolean_variable1=True\n",
        "boolean_variable2=False\n",
        "print(boolean_variable1, 'and' , boolean_variable2, 'are the two boolean values')"
      ],
      "metadata": {
        "colab": {
          "base_uri": "https://localhost:8080/"
        },
        "id": "Q_kWVlD62jrh",
        "outputId": "4f76ab84-dee5-418d-9d08-c04ea05ce6ef"
      },
      "execution_count": 15,
      "outputs": [
        {
          "output_type": "stream",
          "name": "stdout",
          "text": [
            "True and False are the two boolean values\n"
          ]
        }
      ]
    },
    {
      "cell_type": "code",
      "source": [
        "# Example of Arithmetic Operations\n",
        "\n",
        "# Addition\n",
        "print('Sum =', 4+5.7)\n",
        "\n",
        "# Subtraction\n",
        "print('Difference =',2-3)\n",
        "\n",
        "# Multiplication\n",
        "print('Product =',3*2)\n",
        "\n",
        "# Division\n",
        "print('Quotient =',4/2)\n",
        "\n",
        "# Modulo Division\n",
        "print('Remainder =',5%3)"
      ],
      "metadata": {
        "colab": {
          "base_uri": "https://localhost:8080/"
        },
        "id": "uQvrEAY0-LIP",
        "outputId": "05a8e93f-ac48-42ea-dc68-7160f457b55f"
      },
      "execution_count": 20,
      "outputs": [
        {
          "output_type": "stream",
          "name": "stdout",
          "text": [
            "Sum = 9.7\n",
            "Difference = -1\n",
            "Product = 6\n",
            "Quotient = 2.0\n",
            "Remainder = 2\n"
          ]
        }
      ]
    }
  ]
}